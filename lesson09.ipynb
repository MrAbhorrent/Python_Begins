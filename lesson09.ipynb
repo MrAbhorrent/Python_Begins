{
    "cells": [
        {
            "attachments": {},
            "cell_type": "markdown",
            "metadata": {
                "id": "rJq0P-XPZjEr"
            },
            "source": [
                "# Домашнее задание. Семинар 9"
            ]
        },
        {
            "attachments": {},
            "cell_type": "markdown",
            "metadata": {},
            "source": [
                "### Задача 40: \n",
                "Работать с файлом california_housing_train.csv, который находится в папке sample_data. \n",
                "Определить среднюю стоимость дома, где кол-во людей от 0 до 500 (population)."
            ]
        },
        {
            "cell_type": "code",
            "execution_count": 17,
            "metadata": {},
            "outputs": [
                {
                    "data": {
                        "text/plain": [
                            "median_house_value    190157.091803\n",
                            "dtype: float64"
                        ]
                    },
                    "execution_count": 17,
                    "metadata": {},
                    "output_type": "execute_result"
                }
            ],
            "source": [
                "import pandas as pd\n",
                "df = pd.read_csv('sample_data/california_housing_test.csv')\n",
                "df.loc[df['population'] <= 500, ['median_house_value']].mean()"
            ]
        },
        {
            "attachments": {},
            "cell_type": "markdown",
            "metadata": {},
            "source": [
                "### Задача 42: \n",
                "Узнать какая максимальная households в зоне минимального значения population."
            ]
        },
        {
            "cell_type": "code",
            "execution_count": 24,
            "metadata": {},
            "outputs": [
                {
                    "name": "stdout",
                    "output_type": "stream",
                    "text": [
                        "Min population - 5.0\n",
                        "Максимальная households\n"
                    ]
                },
                {
                    "data": {
                        "text/plain": [
                            "3.0"
                        ]
                    },
                    "execution_count": 24,
                    "metadata": {},
                    "output_type": "execute_result"
                }
            ],
            "source": [
                "min_population = df['population'].min()\n",
                "print(f\"Min population - {min_population}\")\n",
                "print(\"Максимальная households\")\n",
                "df[df['population'] == min_population]['households'].max()"
            ]
        }
    ],
    "metadata": {
        "kernelspec": {
            "display_name": "Python 3",
            "language": "python",
            "name": "python3"
        },
        "language_info": {
            "codemirror_mode": {
                "name": "ipython",
                "version": 3
            },
            "file_extension": ".py",
            "mimetype": "text/x-python",
            "name": "python",
            "nbconvert_exporter": "python",
            "pygments_lexer": "ipython3",
            "version": "3.11.4"
        },
        "orig_nbformat": 4
    },
    "nbformat": 4,
    "nbformat_minor": 2
}
